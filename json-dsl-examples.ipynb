{
 "cells": [
  {
   "cell_type": "markdown",
   "id": "cf63d097-cb51-4f40-8620-3962ee1870d6",
   "metadata": {},
   "source": [
    "# Importing the library"
   ]
  },
  {
   "cell_type": "code",
   "execution_count": 1,
   "id": "f3ab0a7c-5cea-4776-b31b-cbe4edf6b2af",
   "metadata": {},
   "outputs": [],
   "source": [
    "USE {\n",
    "    repositories {\n",
    "        maven {\n",
    "            url = \"https://maven.tryformation.com/releases\"\n",
    "        }\n",
    "    }\n",
    "\n",
    "    dependencies {\n",
    "        implementation(\"com.github.jillesvangurp:json-dsl-jvm:1.2.2\")\n",
    "    }\n",
    "}"
   ]
  },
  {
   "cell_type": "markdown",
   "id": "20442733-afb6-4f28-822c-80cc71e7829e",
   "metadata": {},
   "source": [
    "Some imports that we need below"
   ]
  },
  {
   "cell_type": "code",
   "execution_count": 2,
   "id": "d73f1a37-8a2d-4776-9cf2-aaed4040e0d8",
   "metadata": {},
   "outputs": [],
   "source": [
    "import com.jillesvangurp.jsondsl.*\n",
    "import kotlin.reflect.KProperty"
   ]
  },
  {
   "cell_type": "markdown",
   "id": "0227eac9-ef56-457d-bb0b-ad9e44c5d3df",
   "metadata": {},
   "source": [
    "# Hello World"
   ]
  },
  {
   "cell_type": "code",
   "execution_count": 3,
   "id": "544fc642-61ef-4a96-8121-6e086888d8f6",
   "metadata": {},
   "outputs": [],
   "source": [
    "class HelloDsl : JsonDsl() {\n",
    "  // adds a string property that the user can assign\n",
    "  var message by property<String>()\n",
    "}"
   ]
  },
  {
   "cell_type": "markdown",
   "id": "b900f0e5-efd5-4055-991f-48848223a0ed",
   "metadata": {},
   "source": [
    "JsonDsl uses property delegation to allow you to add typesafe properties. The delegated property stores it's value in the `Map`."
   ]
  },
  {
   "cell_type": "code",
   "execution_count": 4,
   "id": "ba0743d0-6869-40d9-bdbd-09d04768de5e",
   "metadata": {},
   "outputs": [],
   "source": [
    "// a helper function to create HelloDsl instances\n",
    "fun hello(block: HelloDsl.() -> Unit): HelloDsl {\n",
    "  return HelloDsl().apply(block)\n",
    "}"
   ]
  },
  {
   "cell_type": "markdown",
   "id": "aeef22f9-09b0-44b0-a5c9-b5b29bb63309",
   "metadata": {},
   "source": [
    "## Making it say hi\n",
    "\n",
    "So now we can create some json from Kotlin"
   ]
  },
  {
   "cell_type": "code",
   "execution_count": 5,
   "id": "22419c75-e4a0-4552-a086-d27d318c9b29",
   "metadata": {},
   "outputs": [
    {
     "data": {
      "text/plain": [
       "{\n",
       "  \"message\": \"Hello world\"\n",
       "}"
      ]
     },
     "execution_count": 5,
     "metadata": {},
     "output_type": "execute_result"
    }
   ],
   "source": [
    "val ohai = hello {\n",
    "  message = \"Hello world\"\n",
    "}\n",
    "// json is an extension function on JsonDsl that serializes everything\n",
    "ohai.json(pretty = true)"
   ]
  },
  {
   "cell_type": "code",
   "execution_count": 6,
   "id": "d9acb37b-152d-4498-b676-f3ed9ca76202",
   "metadata": {},
   "outputs": [
    {
     "data": {
      "text/plain": [
       "{\"message\":\"Hello world\"}"
      ]
     },
     "execution_count": 6,
     "metadata": {},
     "output_type": "execute_result"
    }
   ],
   "source": [
    "ohai.json()"
   ]
  },
  {
   "cell_type": "markdown",
   "id": "2dc370f0-e97d-4533-909d-77b1fc199de2",
   "metadata": {},
   "source": [
    "It's just a MutableMap, so you can just add whatever you need with a simple put."
   ]
  },
  {
   "cell_type": "code",
   "execution_count": 7,
   "id": "930a4fdd-1816-4b92-b86e-0b906952842c",
   "metadata": {},
   "outputs": [
    {
     "data": {
      "text/plain": [
       "{\n",
       "  \"message\": \"Hello world\",\n",
       "  \"foo\": \"bar\"\n",
       "}"
      ]
     },
     "execution_count": 7,
     "metadata": {},
     "output_type": "execute_result"
    }
   ],
   "source": [
    "ohai[\"foo\"] = \"bar\"\n",
    "ohai.json(pretty = true)"
   ]
  },
  {
   "cell_type": "markdown",
   "id": "71dbdcad-b9fe-4571-9f1b-684941227390",
   "metadata": {},
   "source": [
    "# Serialize Any?\n",
    "\n",
    "JsonDsl is a `MutableMap<String, Any?>`. So it can have type safe properties for any Kotlin type. Including `Any?`"
   ]
  },
  {
   "cell_type": "code",
   "execution_count": 8,
   "id": "86b730d5-193d-4575-9099-25d2452d9bac",
   "metadata": {},
   "outputs": [],
   "source": [
    "class AnyTypeDsl : JsonDsl() {\n",
    "  var intVal by property<Int>()\n",
    "  var boolVal by property<Boolean>()\n",
    "  var doubleVal by property<Double>()\n",
    "  var arrayVal by property<Array<String>>()\n",
    "  var listVal by property<List<String>>()\n",
    "  var mapVal by property<Map<String, String>>()\n",
    "  var idontknow by property<Any>()\n",
    "}"
   ]
  },
  {
   "cell_type": "code",
   "execution_count": 9,
   "id": "01b69013-60fa-41c3-93f1-ba4f4dde01dd",
   "metadata": {},
   "outputs": [
    {
     "data": {
      "text/plain": [
       "{\n",
       "  \"int_val\": 1,\n",
       "  \"bool_val\": true,\n",
       "  \"double_val\": 3.141592653589793,\n",
       "  \"array_val\": [\n",
       "    \"hello\", \n",
       "    \"world\"\n",
       "  ],\n",
       "  \"list_val\": [\n",
       "    \"1\", \n",
       "    \"2\"\n",
       "  ],\n",
       "  \"map_val\": {\n",
       "    \"Key\": \"Value\"\n",
       "  },\n",
       "  \"idontknow\": {\n",
       "    \"arrays\": [\n",
       "      1, \n",
       "      2, \n",
       "      \"3\", \n",
       "      4.0, \n",
       "      {\n",
       "        \"this\": \"is valid JSON\"\n",
       "      }\n",
       "    ],\n",
       "    \"sequences\": [\n",
       "      1, \n",
       "      \"2\", \n",
       "      3.0\n",
       "    ]\n",
       "  }\n",
       "}"
      ]
     },
     "execution_count": 9,
     "metadata": {},
     "output_type": "execute_result"
    }
   ],
   "source": [
    "val anyDsl = AnyTypeDsl().apply {\n",
    "  intVal = 1\n",
    "  boolVal = true\n",
    "  doubleVal = PI\n",
    "  arrayVal = arrayOf(\"hello\", \"world\")\n",
    "  listVal = listOf(\"1\", \"2\")\n",
    "  mapVal = mapOf(\n",
    "    \"Key\" to \"Value\"\n",
    "  )\n",
    "\n",
    "  // The Any type is a bit of free for all\n",
    "  idontknow = mapOf(\n",
    "    \"arrays\" to arrayOf(\n",
    "      1, 2, \"3\", 4.0,\n",
    "      mapOf(\"this\" to \"is valid JSON\")\n",
    "    ),\n",
    "    \"sequences\" to sequenceOf(1,\"2\",3.0)\n",
    "  )\n",
    "}\n",
    "    \n",
    "anyDsl.json(true)"
   ]
  },
  {
   "cell_type": "markdown",
   "id": "b3d0551b-b332-40cb-ad1a-96660461fc75",
   "metadata": {},
   "source": [
    "## toString() as a fallback\n",
    "\n",
    "You don't have to create sub classes and you can just use `withJsonDsl` to quickly create some JsonDsl instance"
   ]
  },
  {
   "cell_type": "code",
   "execution_count": 10,
   "id": "e6a99983-549f-4b98-ba27-4d88d3593525",
   "metadata": {},
   "outputs": [
    {
     "name": "stdout",
     "output_type": "stream",
     "text": [
      "{\n",
      "  \"foo\": \"foo bar\"\n",
      "}\n"
     ]
    }
   ],
   "source": [
    "data class FooBar(val foo:String=\"foo\", val bar: String=\"bar\") {\n",
    "    override fun toString() = \"$foo $bar\"\n",
    "}\n",
    "\n",
    "println(withJsonDsl {\n",
    "  this[\"foo\"]=FooBar()\n",
    "})"
   ]
  },
  {
   "cell_type": "markdown",
   "id": "7c50b934-bb58-4e7c-a149-7f95aa4c6c4f",
   "metadata": {},
   "source": [
    "# YAML\n",
    "\n",
    "There's a serializer for YAML too. Works the same way. Except it produces YAML."
   ]
  },
  {
   "cell_type": "code",
   "execution_count": 11,
   "id": "0d8564b9-648b-4b41-aabd-4619731fdf0f",
   "metadata": {},
   "outputs": [
    {
     "data": {
      "text/plain": [
       "---\n",
       "int_val: 1\n",
       "bool_val: true\n",
       "double_val: 3.141592653589793\n",
       "array_val: \n",
       "  - hello\n",
       "  - world\n",
       "list_val: \n",
       "  - \"1\"\n",
       "  - \"2\"\n",
       "map_val: \n",
       "  Key: Value\n",
       "idontknow: \n",
       "  arrays: \n",
       "    - 1\n",
       "    - 2\n",
       "    - \"3\"\n",
       "    - 4.0\n",
       "    - \n",
       "      this: \"is valid JSON\"\n",
       "  sequences: \n",
       "    - 1\n",
       "    - \"2\"\n",
       "    - 3.0"
      ]
     },
     "execution_count": 11,
     "metadata": {},
     "output_type": "execute_result"
    }
   ],
   "source": [
    "anyDsl.yaml()"
   ]
  },
  {
   "cell_type": "markdown",
   "id": "14c394b5-da11-45df-b0bb-fa45a4362f81",
   "metadata": {},
   "source": [
    "Multi line strings work too in YAML"
   ]
  },
  {
   "cell_type": "code",
   "execution_count": 12,
   "id": "214f27a6-3837-4feb-a0d6-7f1caca1b713",
   "metadata": {},
   "outputs": [
    {
     "data": {
      "text/plain": [
       "---\n",
       "message: |\n",
       "  Hello\n",
       "  world"
      ]
     },
     "execution_count": 12,
     "metadata": {},
     "output_type": "execute_result"
    }
   ],
   "source": [
    "hello {\n",
    "    message = \"\"\"\n",
    "        Hello\n",
    "        world\n",
    "    \"\"\".trimIndent()\n",
    "}.yaml()"
   ]
  },
  {
   "cell_type": "markdown",
   "id": "62018c53-2921-4076-9ba1-d123285cf65f",
   "metadata": {},
   "source": [
    "# Manipulating the map directly & Raw Json"
   ]
  },
  {
   "cell_type": "code",
   "execution_count": 13,
   "id": "b91d4d09-75f3-49e9-a50b-731c3b582edc",
   "metadata": {},
   "outputs": [
    {
     "name": "stdout",
     "output_type": "stream",
     "text": [
      "{\n",
      "  \"int_val\": 42,\n",
      "  \"bar\": \"foo\",\n",
      "  \"going_off_script\": [\n",
      "    {\n",
      "      \"int_val\": 666,\n",
      "      \"anything\": \"is possible\"\n",
      "    }, \n",
      "    42\n",
      "  ],\n",
      "  \"inline_json\": {\n",
      "  \"if\":\"you need to\",\n",
      "  \"you\":\"can even add json in string form\",\n",
      "  \"RawJson\":\"is a value class\"\n",
      "}\n",
      "}\n"
     ]
    }
   ],
   "source": [
    "val dsl = AnyTypeDsl().apply {\n",
    "  // nicely typed.\n",
    "  intVal = 42\n",
    "\n",
    "  this[\"bar\"] = \"foo\"\n",
    "  this[\"going_off_script\"] = listOf(\n",
    "    AnyTypeDsl().apply {\n",
    "      intVal = 666\n",
    "      this[\"anything\"] = \"is possible\"\n",
    "    },\n",
    "    42\n",
    "  )\n",
    "  this[\"inline_json\"] = RawJson(\"\"\"\n",
    "    {\n",
    "      \"if\":\"you need to\",\n",
    "      \"you\":\"can even add json in string form\",\n",
    "      \"RawJson\":\"is a value class\"\n",
    "    }\n",
    "  \"\"\".trimIndent())\n",
    "}\n",
    "println(dsl.json(true))"
   ]
  },
  {
   "cell_type": "markdown",
   "id": "93b900d6-691f-4a98-a909-cae064519655",
   "metadata": {},
   "source": [
    "# Snake Casing and custom names"
   ]
  },
  {
   "cell_type": "code",
   "execution_count": 14,
   "id": "d6acf06d-c9fe-4c22-94b5-f4d17cb6a5b9",
   "metadata": {},
   "outputs": [],
   "source": [
    "class SnakeCaseDsl : JsonDsl(\n",
    "  // actually the default\n",
    "  namingConvention = PropertyNamingConvention.ConvertToSnakeCase\n",
    ") {\n",
    "  // this will be snake cased\n",
    "  var camelCase by property<Boolean>()\n",
    "  var mySize by property<Int>(\n",
    "    customPropertyName = \"size\"\n",
    "  )\n",
    "  var myVal by property<String>(\n",
    "    customPropertyName = \"val\"\n",
    "  )\n",
    "  // explicitly set name and provide a default\n",
    "  var m by property(\n",
    "    customPropertyName = \"meaning_of_life\",\n",
    "    defaultValue = 42\n",
    "  )\n",
    "}"
   ]
  },
  {
   "cell_type": "code",
   "execution_count": 15,
   "id": "b648ceca-3dd7-41ea-b8a5-762874a41edc",
   "metadata": {},
   "outputs": [
    {
     "data": {
      "text/plain": [
       "{\n",
       "  \"meaning_of_life\": 42,\n",
       "  \"camel_case\": true,\n",
       "  \"size\": 2147483647,\n",
       "  \"val\": \"hello\"\n",
       "}"
      ]
     },
     "execution_count": 15,
     "metadata": {},
     "output_type": "execute_result"
    }
   ],
   "source": [
    "val dsl = SnakeCaseDsl().apply {\n",
    "  camelCase = true\n",
    "  mySize = Int.MAX_VALUE\n",
    "  myVal = \"hello\"\n",
    "}\n",
    "dsl.json(true)"
   ]
  },
  {
   "cell_type": "markdown",
   "id": "937e3071-f932-4db1-a075-a4b742c45850",
   "metadata": {},
   "source": [
    "# Custom Values"
   ]
  },
  {
   "cell_type": "code",
   "execution_count": 16,
   "id": "8e6e74c1-f57a-42fd-9e46-0017c77e7217",
   "metadata": {},
   "outputs": [],
   "source": [
    "enum class Grades(override val value: Double) : CustomValue<Double> {\n",
    "  Excellent(7.0),\n",
    "  Pass(5.51),\n",
    "  Fail(3.0)\n",
    "}"
   ]
  },
  {
   "cell_type": "code",
   "execution_count": 17,
   "id": "907e7d06-606a-4225-a01f-f8a6ed4ec5b2",
   "metadata": {},
   "outputs": [
    {
     "data": {
      "text/plain": [
       "{\n",
       "  \"grade\": 7.0\n",
       "}"
      ]
     },
     "execution_count": 17,
     "metadata": {},
     "output_type": "execute_result"
    }
   ],
   "source": [
    "withJsonDsl {\n",
    "  this[\"grade\"] = Grades.Excellent\n",
    "}.json(true)"
   ]
  },
  {
   "cell_type": "markdown",
   "id": "e6f03a0d-6445-4e1a-85e6-d4d01e265461",
   "metadata": {},
   "source": [
    "# Implementing a simple query for Elasticsearch\n",
    "\n",
    "We're going to implement a Kotlin DSL to implement this simple query\n",
    "\n",
    "```json\n",
    "{\n",
    "  \"query\": {\n",
    "    \"term\": {\n",
    "      \"myField\": {\n",
    "        \"value\": \"some value\",\n",
    "        \"boost\": 2.0\n",
    "      }\n",
    "    }\n",
    "  }\n",
    "}\n",
    "```\n",
    "\n",
    "What's happening here:\n",
    "\n",
    "- Elasticsearch queries are a json object that can have, amongst others a `query` property that takes any of the gazillions of different queries that it supports.\n",
    "- We only support the `term` query here. This is one of the simplest queries that allows you to match a field with a value.\n",
    "- Note how Elasticsearch wraps the term query object with an objec that has a single property called `term`. This is slightly annoying to model\n",
    "- And note how the term query configuration with the `value` and the `boost` is assigned to a property with our field name. Also not ideal."
   ]
  },
  {
   "cell_type": "markdown",
   "id": "267f98d1-50aa-4601-865b-efc3a355a6af",
   "metadata": {},
   "source": [
    "First we define a [DSL marker](https://kotlinlang.org/api/latest/jvm/stdlib/kotlin/-dsl-marker/).\n",
    "\n",
    "> Classes that define annotations marked with the @DslMarker annotation are used to define DSLs. These annotations are used to mark classes and receivers, preventing receivers marked with the same annotation to be accessed inside one another."
   ]
  },
  {
   "cell_type": "code",
   "execution_count": 18,
   "id": "904b98fd-e4ac-491a-a135-04ad71d14ddf",
   "metadata": {},
   "outputs": [],
   "source": [
    "// using DslMarkers is useful with\n",
    "// complicated DSLs\n",
    "@DslMarker\n",
    "annotation class SearchDSLMarker"
   ]
  },
  {
   "cell_type": "markdown",
   "id": "d6851215-55c3-4e2b-b272-1272ec58fefd",
   "metadata": {},
   "source": [
    "Elasticsearch has many query types so we need a base class for our term query"
   ]
  },
  {
   "cell_type": "code",
   "execution_count": 19,
   "id": "48c8e16d-0759-44fc-82d6-03632317fb03",
   "metadata": {},
   "outputs": [],
   "source": [
    "@SearchDSLMarker\n",
    "open class ESQuery(\n",
    "  val name: String,\n",
    "  val queryDetails: JsonDsl = JsonDsl()\n",
    ")  {\n",
    "\n",
    "  // Elasticsearch wraps everything in an outer object\n",
    "  // with the name as its only key\n",
    "  fun wrapWithName() = withJsonDsl() {\n",
    "    this[name] = queryDetails\n",
    "  }\n",
    "}"
   ]
  },
  {
   "cell_type": "markdown",
   "id": "a25746ee-931d-4d3c-91ff-b9a7aafdacc1",
   "metadata": {},
   "source": [
    "Next we implement a QueryDsl to model the outer part of the query."
   ]
  },
  {
   "cell_type": "code",
   "execution_count": 20,
   "id": "1209d5cf-cba8-4778-878f-dcfc7617378e",
   "metadata": {},
   "outputs": [],
   "source": [
    "// We'll use this to add extension functions for specific query types\n",
    "interface QueryClauses\n",
    "\n",
    "// abbreviated version of the\n",
    "// Elasticsearch Query DSL in kt-search\n",
    "class QueryDsl:\n",
    "  JsonDsl(namingConvention = PropertyNamingConvention.ConvertToSnakeCase),\n",
    "  // helper interface that we define\n",
    "  // extension functions on\n",
    "  QueryClauses\n",
    "{\n",
    "  // Elasticsearch often wraps objects in\n",
    "  // another object. So we use a custom\n",
    "  // setter here to hide that.\n",
    "  var query: ESQuery\n",
    "    get() {\n",
    "      val map =\n",
    "        this[\"query\"] as Map<String, JsonDsl>\n",
    "      val (name, details) = map.entries.first()\n",
    "      // reconstruct the ESQuery\n",
    "      return ESQuery(name, details)\n",
    "    }\n",
    "    set(value) {\n",
    "      // queries extend ESQuery\n",
    "      // which takes care of the wrapping\n",
    "      // via wrapWithName\n",
    "      this[\"query\"] = value.wrapWithName()\n",
    "    }\n",
    "}\n",
    "\n",
    "// easy way to create a query\n",
    "fun query(block: QueryDsl.()->Unit): QueryDsl {\n",
    "  return QueryDsl().apply(block)\n",
    "}\n"
   ]
  },
  {
   "cell_type": "markdown",
   "id": "b2fe3b47-4e10-415b-b449-0530b2013d53",
   "metadata": {},
   "source": [
    "Now we can implement our TermQuery. It needs a `TermQueryConfig` that we'll assign"
   ]
  },
  {
   "cell_type": "code",
   "execution_count": 21,
   "id": "b6c7fc79-9bbd-42b6-a3cf-e0a7e5a2be1f",
   "metadata": {},
   "outputs": [],
   "source": [
    "// configuration for term queries\n",
    "// this is a subset of the supported\n",
    "// properties.\n",
    "class TermQueryConfig : JsonDsl() {\n",
    "  var value by property<String>()\n",
    "  var boost by property<Double>()\n",
    "}\n",
    "\n",
    "// the dsl class for creating term queries\n",
    "// this is one of the most basic queries\n",
    "// in elasticsearch\n",
    "@SearchDSLMarker\n",
    "class TermQuery(\n",
    "  field: String,\n",
    "  value: String,\n",
    "  termQueryConfig: TermQueryConfig = TermQueryConfig(),\n",
    "  block: (TermQueryConfig.() -> Unit)? = null\n",
    ") : ESQuery(\"term\") {\n",
    "  // on init, apply the block to the configuration and\n",
    "  // assign it in the queryDetails from the parent\n",
    "  init {\n",
    "    queryDetails.put(field, termQueryConfig, PropertyNamingConvention.AsIs)\n",
    "    termQueryConfig.value = value\n",
    "    block?.invoke(termQueryConfig)\n",
    "  }\n",
    "}"
   ]
  },
  {
   "cell_type": "markdown",
   "id": "7ac01902-a593-463a-9790-9578009c1b75",
   "metadata": {},
   "source": [
    "Finally we add some extension functions to make life easier for our users. \n",
    "They'll be able to auto completer term inside a `QueryDsl` block because it implements `QueryClauses`"
   ]
  },
  {
   "cell_type": "code",
   "execution_count": 22,
   "id": "8f25e89f-4e96-43d7-a754-6a81fdbcf9ae",
   "metadata": {},
   "outputs": [],
   "source": [
    "fun QueryClauses.term(\n",
    "  field: String,\n",
    "  value: String,\n",
    "  block: (TermQueryConfig.() -> Unit)? = null\n",
    ") =\n",
    "  TermQuery(field, value, block = block)\n",
    "\n"
   ]
  },
  {
   "cell_type": "markdown",
   "id": "24bb98b3-8198-4caf-b883-f9c3f673b874",
   "metadata": {},
   "source": [
    "And of course our users will likely want to use data classes to model their Json documents in Elasticsearch so wouldn't it be nice if they could use **property references**?"
   ]
  },
  {
   "cell_type": "code",
   "execution_count": 23,
   "id": "fae98b77-4e3b-4fa6-bba1-9ef5e1295592",
   "metadata": {},
   "outputs": [],
   "source": [
    "fun QueryClauses.term(\n",
    "  field: KProperty<*>,\n",
    "  value: String,\n",
    "  block: (TermQueryConfig.() -> Unit)? = null\n",
    ") = TermQuery(field.name, value, block = block)"
   ]
  },
  {
   "cell_type": "markdown",
   "id": "14178df4-2383-4982-97fb-98ff2d304a4a",
   "metadata": {},
   "source": [
    "## Using the QueryDsl\n",
    "\n",
    "Creating the DSL is a bit of work but it helps our users by making things easy for them."
   ]
  },
  {
   "cell_type": "code",
   "execution_count": 24,
   "id": "a8bea3e1-515f-4f2b-90da-54dbff59df86",
   "metadata": {},
   "outputs": [
    {
     "data": {
      "text/plain": [
       "{\n",
       "  \"query\": {\n",
       "    \"term\": {\n",
       "      \"myField\": {\n",
       "        \"value\": \"some value\"\n",
       "      }\n",
       "    }\n",
       "  }\n",
       "}"
      ]
     },
     "execution_count": 24,
     "metadata": {},
     "output_type": "execute_result"
    }
   ],
   "source": [
    "data class MyModelClassInES(val myField: String)\n",
    "\n",
    "val q = query {\n",
    "  query = term(MyModelClassInES::myField, \"some value\")\n",
    "}\n",
    "\n",
    "q.json(true)"
   ]
  },
  {
   "cell_type": "markdown",
   "id": "75f171e6-bb50-4b2b-9901-d6dece1c9ee6",
   "metadata": {},
   "source": [
    "# Let's use our shiny new DSL with Opensearch\n",
    "\n",
    "We'll use Java's HTTP client to talk to Opensearch. I have it running locally on port 9200. \n",
    "\n",
    "```shell\n",
    "docker run -d --rm -p 9200:9200 -p 9600:9600 -e \"discovery.type=single-node\" -e \"DISABLE_SECURITY_PLUGIN=true\" opensearchproject/opensearch:latest\n",
    "```\n",
    "\n",
    "Note, I've configured it without a volume and `--rm` so data will be gone when you stop the docker container. Refer to the documentation for more info on how to run this properly.\n",
    "\n"
   ]
  },
  {
   "cell_type": "code",
   "execution_count": 46,
   "id": "14f265db-0096-40c2-9ed2-58c176c026c5",
   "metadata": {},
   "outputs": [],
   "source": [
    "// we need some more imports\n",
    "import java.net.URI\n",
    "import java.net.http.*\n",
    "import java.net.http.HttpResponse.BodyHandlers\n",
    "import java.net.http.HttpRequest.BodyPublishers\n",
    "\n",
    "val baseUrl = \"http://localhost:9200\"\n"
   ]
  },
  {
   "cell_type": "markdown",
   "id": "be16f21b-acb5-4f2b-bd88-1a44bd1906eb",
   "metadata": {},
   "source": [
    "We need some content in Elasticsearch"
   ]
  },
  {
   "cell_type": "code",
   "execution_count": 50,
   "id": "511f3e4b-37ba-49de-b251-2b855169f979",
   "metadata": {},
   "outputs": [
    {
     "data": {
      "text/plain": [
       "(DELETE http://localhost:9200/jsondsldemo) 404"
      ]
     },
     "execution_count": 50,
     "metadata": {},
     "output_type": "execute_result"
    }
   ],
   "source": [
    "// clean up the old index\n",
    "HttpClient.newHttpClient().send(\n",
    "    HttpRequest.newBuilder()\n",
    "        .uri(URI.create(\"$baseUrl/jsondsldemo\"))\n",
    "        .header(\"Content-Type\", \"application/json\")\n",
    "        .DELETE()\n",
    "        .build(), \n",
    "    BodyHandlers.ofString())"
   ]
  },
  {
   "cell_type": "markdown",
   "id": "0ba016f9-f45d-4603-9567-857aab4dcf82",
   "metadata": {},
   "source": [
    "Let's create some documents in Elasticsearch. Since Elasticsearch is a JSON document store, of course we use json-dsl ..."
   ]
  },
  {
   "cell_type": "code",
   "execution_count": 60,
   "id": "75f82d08-0502-41d1-bd47-79c38b2f97fb",
   "metadata": {},
   "outputs": [],
   "source": [
    "class TestDoc() : JsonDsl(namingConvention = PropertyNamingConvention.AsIs) {\n",
    "    var id by property<Int>()\n",
    "    var title by property<String>()\n",
    "    var myField by property<List<String>>()\n",
    "}\n",
    "\n",
    "fun testDoc(block: TestDoc.() -> Unit) = TestDoc().apply(block)\n",
    "val docs = listOf(\n",
    "    testDoc {\n",
    "        id = 1\n",
    "        title = \"There can only be foo\"\n",
    "        myField = listOf(\"foo\")\n",
    "    },    \n",
    "    testDoc {\n",
    "        id = 2\n",
    "        title = \"Also bar\"\n",
    "        myField = listOf(\"foo\",\"bar\")\n",
    "    },    \n",
    "    testDoc {\n",
    "        id = 3\n",
    "        title = \"It's foobarred\"\n",
    "        myField = listOf(\"foo\",\"foobar\")\n",
    "    },    \n",
    "    testDoc {\n",
    "        id = 4\n",
    "        title = \"No foo\"\n",
    "        myField = listOf(\"bar\")\n",
    "    },    \n",
    ")\n",
    "docs.forEach { document ->\n",
    "HttpClient.newHttpClient().send(\n",
    "    HttpRequest.newBuilder()\n",
    "        .uri(URI.create(\"$baseUrl/jsondsldemo/_doc/${document[\"id\"]}\"))\n",
    "        .header(\"Content-Type\", \"application/json\")\n",
    "        .PUT(BodyPublishers.ofString(\n",
    "            // convert out docs to json\n",
    "            document.json()\n",
    "        ))\n",
    "        .build(), \n",
    "    BodyHandlers.ofString())\n",
    "}"
   ]
  },
  {
   "cell_type": "code",
   "execution_count": 61,
   "id": "a31977e2-0f5e-4e80-ad58-3bf16ade8902",
   "metadata": {},
   "outputs": [
    {
     "name": "stdout",
     "output_type": "stream",
     "text": [
      "Status: 200, Body: {\"took\":660,\"timed_out\":false,\"_shards\":{\"total\":1,\"successful\":1,\"skipped\":0,\"failed\":0},\"hits\":{\"total\":{\"value\":4,\"relation\":\"eq\"},\"max_score\":1.0,\"hits\":[{\"_index\":\"jsondsldemo\",\"_id\":\"1\",\"_score\":1.0,\"_source\":{\"id\":1,\"title\":\"There can only be foo\",\"myField\":[\"foo\"]}},{\"_index\":\"jsondsldemo\",\"_id\":\"2\",\"_score\":1.0,\"_source\":{\"id\":2,\"title\":\"Also bar\",\"myField\":[\"foo\",\"bar\"]}},{\"_index\":\"jsondsldemo\",\"_id\":\"3\",\"_score\":1.0,\"_source\":{\"id\":3,\"title\":\"It's foobarred\",\"myField\":[\"foo\",\"foobar\"]}},{\"_index\":\"jsondsldemo\",\"_id\":\"4\",\"_score\":1.0,\"_source\":{\"id\":4,\"title\":\"No foo\",\"myField\":[\"bar\"]}}]}}\n"
     ]
    }
   ],
   "source": [
    "\n",
    "val response = HttpClient.newHttpClient().send(\n",
    "    HttpRequest.newBuilder()\n",
    "        .uri(URI.create(\"$baseUrl/jsondsldemo/_search\"))\n",
    "        .header(\"Content-Type\", \"application/json\")\n",
    "        .POST(BodyPublishers.ofString(\n",
    "            query {\n",
    "                \n",
    "            }.json()\n",
    "        ))\n",
    "        .build(), \n",
    "    BodyHandlers.ofString())\n",
    "\n",
    "println(\"Status: ${response.statusCode()}, Body: ${response.body()}\")"
   ]
  }
 ],
 "metadata": {
  "kernelspec": {
   "display_name": "Kotlin",
   "language": "kotlin",
   "name": "kotlin"
  },
  "language_info": {
   "codemirror_mode": "text/x-kotlin",
   "file_extension": ".kt",
   "mimetype": "text/x-kotlin",
   "name": "kotlin",
   "nbconvert_exporter": "",
   "pygments_lexer": "kotlin",
   "version": "1.9.10"
  }
 },
 "nbformat": 4,
 "nbformat_minor": 5
}
